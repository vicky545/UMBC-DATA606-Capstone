{
 "cells": [
  {
   "cell_type": "markdown",
   "id": "bfbb328f",
   "metadata": {},
   "source": [
    "# Predict Droughts using Weather & Soil Data\n"
   ]
  },
  {
   "cell_type": "markdown",
   "id": "a96f87ba",
   "metadata": {},
   "source": [
    "By: Wihar Paladugula <br/>\n",
    "\n",
    "ID: RQ47971"
   ]
  },
  {
   "cell_type": "markdown",
   "id": "f4b9c2c9",
   "metadata": {},
   "source": [
    "Data Scource: https://www.kaggle.com/datasets/cdminix/us-drought-meteorological-data "
   ]
  },
  {
   "cell_type": "markdown",
   "id": "8cd71203",
   "metadata": {},
   "source": [
    "## Importing Necessary Packages"
   ]
  },
  {
   "cell_type": "code",
   "execution_count": 12,
   "id": "945a21cc",
   "metadata": {},
   "outputs": [],
   "source": [
    "import warnings\n",
    "warnings.filterwarnings(\"ignore\")\n",
    "\n",
    "import numpy as np\n",
    "import pandas as pd\n",
    "import datetime as dt"
   ]
  },
  {
   "cell_type": "markdown",
   "id": "839d50b8",
   "metadata": {},
   "source": [
    "## Reading the csv file"
   ]
  },
  {
   "cell_type": "code",
   "execution_count": 3,
   "id": "935df39a",
   "metadata": {},
   "outputs": [],
   "source": [
    "df = pd.read_csv(\"train_timeseries.csv\")"
   ]
  },
  {
   "cell_type": "markdown",
   "id": "ae49483d",
   "metadata": {},
   "source": [
    "## Exploring the data frame"
   ]
  },
  {
   "cell_type": "code",
   "execution_count": 4,
   "id": "3a31ca16",
   "metadata": {},
   "outputs": [
    {
     "name": "stdout",
     "output_type": "stream",
     "text": [
      "The data has 19300680 rows and 21 columns\n"
     ]
    }
   ],
   "source": [
    "print(f\"The data has {df.shape[0]} rows and {df.shape[1]} columns\")"
   ]
  },
  {
   "cell_type": "code",
   "execution_count": 5,
   "id": "dbefdb21",
   "metadata": {},
   "outputs": [
    {
     "name": "stdout",
     "output_type": "stream",
     "text": [
      "<class 'pandas.core.frame.DataFrame'>\n",
      "RangeIndex: 19300680 entries, 0 to 19300679\n",
      "Data columns (total 21 columns):\n",
      " #   Column       Dtype  \n",
      "---  ------       -----  \n",
      " 0   fips         int64  \n",
      " 1   date         object \n",
      " 2   PRECTOT      float64\n",
      " 3   PS           float64\n",
      " 4   QV2M         float64\n",
      " 5   T2M          float64\n",
      " 6   T2MDEW       float64\n",
      " 7   T2MWET       float64\n",
      " 8   T2M_MAX      float64\n",
      " 9   T2M_MIN      float64\n",
      " 10  T2M_RANGE    float64\n",
      " 11  TS           float64\n",
      " 12  WS10M        float64\n",
      " 13  WS10M_MAX    float64\n",
      " 14  WS10M_MIN    float64\n",
      " 15  WS10M_RANGE  float64\n",
      " 16  WS50M        float64\n",
      " 17  WS50M_MAX    float64\n",
      " 18  WS50M_MIN    float64\n",
      " 19  WS50M_RANGE  float64\n",
      " 20  score        float64\n",
      "dtypes: float64(19), int64(1), object(1)\n",
      "memory usage: 3.0+ GB\n"
     ]
    }
   ],
   "source": [
    "df.info()"
   ]
  },
  {
   "cell_type": "code",
   "execution_count": 7,
   "id": "e63567b5",
   "metadata": {},
   "outputs": [
    {
     "data": {
      "text/plain": [
       "Index(['fips', 'date', 'PRECTOT', 'PS', 'QV2M', 'T2M', 'T2MDEW', 'T2MWET',\n",
       "       'T2M_MAX', 'T2M_MIN', 'T2M_RANGE', 'TS', 'WS10M', 'WS10M_MAX',\n",
       "       'WS10M_MIN', 'WS10M_RANGE', 'WS50M', 'WS50M_MAX', 'WS50M_MIN',\n",
       "       'WS50M_RANGE', 'score'],\n",
       "      dtype='object')"
      ]
     },
     "execution_count": 7,
     "metadata": {},
     "output_type": "execute_result"
    }
   ],
   "source": [
    "df.columns"
   ]
  },
  {
   "cell_type": "code",
   "execution_count": 10,
   "id": "8072f496",
   "metadata": {},
   "outputs": [
    {
     "data": {
      "text/html": [
       "<div>\n",
       "<style scoped>\n",
       "    .dataframe tbody tr th:only-of-type {\n",
       "        vertical-align: middle;\n",
       "    }\n",
       "\n",
       "    .dataframe tbody tr th {\n",
       "        vertical-align: top;\n",
       "    }\n",
       "\n",
       "    .dataframe thead th {\n",
       "        text-align: right;\n",
       "    }\n",
       "</style>\n",
       "<table border=\"1\" class=\"dataframe\">\n",
       "  <thead>\n",
       "    <tr style=\"text-align: right;\">\n",
       "      <th></th>\n",
       "      <th>fips</th>\n",
       "      <th>date</th>\n",
       "      <th>PRECTOT</th>\n",
       "      <th>PS</th>\n",
       "      <th>QV2M</th>\n",
       "      <th>T2M</th>\n",
       "      <th>T2MDEW</th>\n",
       "      <th>T2MWET</th>\n",
       "      <th>T2M_MAX</th>\n",
       "      <th>T2M_MIN</th>\n",
       "      <th>...</th>\n",
       "      <th>TS</th>\n",
       "      <th>WS10M</th>\n",
       "      <th>WS10M_MAX</th>\n",
       "      <th>WS10M_MIN</th>\n",
       "      <th>WS10M_RANGE</th>\n",
       "      <th>WS50M</th>\n",
       "      <th>WS50M_MAX</th>\n",
       "      <th>WS50M_MIN</th>\n",
       "      <th>WS50M_RANGE</th>\n",
       "      <th>score</th>\n",
       "    </tr>\n",
       "  </thead>\n",
       "  <tbody>\n",
       "    <tr>\n",
       "      <th>0</th>\n",
       "      <td>1001</td>\n",
       "      <td>2000-01-01</td>\n",
       "      <td>0.22</td>\n",
       "      <td>100.51</td>\n",
       "      <td>9.65</td>\n",
       "      <td>14.74</td>\n",
       "      <td>13.51</td>\n",
       "      <td>13.51</td>\n",
       "      <td>20.96</td>\n",
       "      <td>11.46</td>\n",
       "      <td>...</td>\n",
       "      <td>14.65</td>\n",
       "      <td>2.20</td>\n",
       "      <td>2.94</td>\n",
       "      <td>1.49</td>\n",
       "      <td>1.46</td>\n",
       "      <td>4.85</td>\n",
       "      <td>6.04</td>\n",
       "      <td>3.23</td>\n",
       "      <td>2.81</td>\n",
       "      <td>NaN</td>\n",
       "    </tr>\n",
       "    <tr>\n",
       "      <th>1</th>\n",
       "      <td>1001</td>\n",
       "      <td>2000-01-02</td>\n",
       "      <td>0.20</td>\n",
       "      <td>100.55</td>\n",
       "      <td>10.42</td>\n",
       "      <td>16.69</td>\n",
       "      <td>14.71</td>\n",
       "      <td>14.71</td>\n",
       "      <td>22.80</td>\n",
       "      <td>12.61</td>\n",
       "      <td>...</td>\n",
       "      <td>16.60</td>\n",
       "      <td>2.52</td>\n",
       "      <td>3.43</td>\n",
       "      <td>1.83</td>\n",
       "      <td>1.60</td>\n",
       "      <td>5.33</td>\n",
       "      <td>6.13</td>\n",
       "      <td>3.72</td>\n",
       "      <td>2.41</td>\n",
       "      <td>NaN</td>\n",
       "    </tr>\n",
       "    <tr>\n",
       "      <th>2</th>\n",
       "      <td>1001</td>\n",
       "      <td>2000-01-03</td>\n",
       "      <td>3.65</td>\n",
       "      <td>100.15</td>\n",
       "      <td>11.76</td>\n",
       "      <td>18.49</td>\n",
       "      <td>16.52</td>\n",
       "      <td>16.52</td>\n",
       "      <td>22.73</td>\n",
       "      <td>15.32</td>\n",
       "      <td>...</td>\n",
       "      <td>18.41</td>\n",
       "      <td>4.03</td>\n",
       "      <td>5.33</td>\n",
       "      <td>2.66</td>\n",
       "      <td>2.67</td>\n",
       "      <td>7.53</td>\n",
       "      <td>9.52</td>\n",
       "      <td>5.87</td>\n",
       "      <td>3.66</td>\n",
       "      <td>NaN</td>\n",
       "    </tr>\n",
       "    <tr>\n",
       "      <th>3</th>\n",
       "      <td>1001</td>\n",
       "      <td>2000-01-04</td>\n",
       "      <td>15.95</td>\n",
       "      <td>100.29</td>\n",
       "      <td>6.42</td>\n",
       "      <td>11.40</td>\n",
       "      <td>6.09</td>\n",
       "      <td>6.10</td>\n",
       "      <td>18.09</td>\n",
       "      <td>2.16</td>\n",
       "      <td>...</td>\n",
       "      <td>11.31</td>\n",
       "      <td>3.84</td>\n",
       "      <td>5.67</td>\n",
       "      <td>2.08</td>\n",
       "      <td>3.59</td>\n",
       "      <td>6.73</td>\n",
       "      <td>9.31</td>\n",
       "      <td>3.74</td>\n",
       "      <td>5.58</td>\n",
       "      <td>1.0</td>\n",
       "    </tr>\n",
       "    <tr>\n",
       "      <th>4</th>\n",
       "      <td>1001</td>\n",
       "      <td>2000-01-05</td>\n",
       "      <td>0.00</td>\n",
       "      <td>101.15</td>\n",
       "      <td>2.95</td>\n",
       "      <td>3.86</td>\n",
       "      <td>-3.29</td>\n",
       "      <td>-3.20</td>\n",
       "      <td>10.82</td>\n",
       "      <td>-2.66</td>\n",
       "      <td>...</td>\n",
       "      <td>2.65</td>\n",
       "      <td>1.60</td>\n",
       "      <td>2.50</td>\n",
       "      <td>0.52</td>\n",
       "      <td>1.98</td>\n",
       "      <td>2.94</td>\n",
       "      <td>4.85</td>\n",
       "      <td>0.65</td>\n",
       "      <td>4.19</td>\n",
       "      <td>NaN</td>\n",
       "    </tr>\n",
       "  </tbody>\n",
       "</table>\n",
       "<p>5 rows × 21 columns</p>\n",
       "</div>"
      ],
      "text/plain": [
       "   fips        date  PRECTOT      PS   QV2M    T2M  T2MDEW  T2MWET  T2M_MAX  \\\n",
       "0  1001  2000-01-01     0.22  100.51   9.65  14.74   13.51   13.51    20.96   \n",
       "1  1001  2000-01-02     0.20  100.55  10.42  16.69   14.71   14.71    22.80   \n",
       "2  1001  2000-01-03     3.65  100.15  11.76  18.49   16.52   16.52    22.73   \n",
       "3  1001  2000-01-04    15.95  100.29   6.42  11.40    6.09    6.10    18.09   \n",
       "4  1001  2000-01-05     0.00  101.15   2.95   3.86   -3.29   -3.20    10.82   \n",
       "\n",
       "   T2M_MIN  ...     TS  WS10M  WS10M_MAX  WS10M_MIN  WS10M_RANGE  WS50M  \\\n",
       "0    11.46  ...  14.65   2.20       2.94       1.49         1.46   4.85   \n",
       "1    12.61  ...  16.60   2.52       3.43       1.83         1.60   5.33   \n",
       "2    15.32  ...  18.41   4.03       5.33       2.66         2.67   7.53   \n",
       "3     2.16  ...  11.31   3.84       5.67       2.08         3.59   6.73   \n",
       "4    -2.66  ...   2.65   1.60       2.50       0.52         1.98   2.94   \n",
       "\n",
       "   WS50M_MAX  WS50M_MIN  WS50M_RANGE  score  \n",
       "0       6.04       3.23         2.81    NaN  \n",
       "1       6.13       3.72         2.41    NaN  \n",
       "2       9.52       5.87         3.66    NaN  \n",
       "3       9.31       3.74         5.58    1.0  \n",
       "4       4.85       0.65         4.19    NaN  \n",
       "\n",
       "[5 rows x 21 columns]"
      ]
     },
     "execution_count": 10,
     "metadata": {},
     "output_type": "execute_result"
    }
   ],
   "source": [
    "df.head()"
   ]
  },
  {
   "cell_type": "markdown",
   "id": "2663c7fb",
   "metadata": {},
   "source": [
    "## Data Cleaning"
   ]
  },
  {
   "cell_type": "code",
   "execution_count": 14,
   "id": "4c7eb3d3",
   "metadata": {},
   "outputs": [],
   "source": [
    "df['date']=pd.to_datetime(df['date'])"
   ]
  },
  {
   "cell_type": "code",
   "execution_count": 16,
   "id": "8c5a75ab",
   "metadata": {},
   "outputs": [],
   "source": [
    "df['year'] = df['date'].dt.year"
   ]
  },
  {
   "cell_type": "code",
   "execution_count": 17,
   "id": "6e48809a",
   "metadata": {},
   "outputs": [
    {
     "name": "stdout",
     "output_type": "stream",
     "text": [
      "Minimum Year: 2000\n",
      "Maximum Year: 2016\n"
     ]
    }
   ],
   "source": [
    "min_year = df['year'].min()\n",
    "max_year = df['year'].max()\n",
    "\n",
    "print(f\"Minimum Year: {min_year}\")\n",
    "print(f\"Maximum Year: {max_year}\")"
   ]
  },
  {
   "cell_type": "markdown",
   "id": "b4c07ee7",
   "metadata": {},
   "source": [
    "> Reducing number of records so that memory is sufficient by taking data from 2010 to 2016"
   ]
  },
  {
   "cell_type": "code",
   "execution_count": 18,
   "id": "283f50fe",
   "metadata": {},
   "outputs": [],
   "source": [
    "df = df[(df['year'] >= 2010) & (df['year'] <= 2016)]"
   ]
  },
  {
   "cell_type": "code",
   "execution_count": 23,
   "id": "06ec36dc",
   "metadata": {},
   "outputs": [
    {
     "name": "stdout",
     "output_type": "stream",
     "text": [
      "<class 'pandas.core.frame.DataFrame'>\n",
      "Int64Index: 7947156 entries, 3653 to 19300679\n",
      "Data columns (total 22 columns):\n",
      " #   Column       Dtype         \n",
      "---  ------       -----         \n",
      " 0   fips         int64         \n",
      " 1   date         datetime64[ns]\n",
      " 2   PRECTOT      float64       \n",
      " 3   PS           float64       \n",
      " 4   QV2M         float64       \n",
      " 5   T2M          float64       \n",
      " 6   T2MDEW       float64       \n",
      " 7   T2MWET       float64       \n",
      " 8   T2M_MAX      float64       \n",
      " 9   T2M_MIN      float64       \n",
      " 10  T2M_RANGE    float64       \n",
      " 11  TS           float64       \n",
      " 12  WS10M        float64       \n",
      " 13  WS10M_MAX    float64       \n",
      " 14  WS10M_MIN    float64       \n",
      " 15  WS10M_RANGE  float64       \n",
      " 16  WS50M        float64       \n",
      " 17  WS50M_MAX    float64       \n",
      " 18  WS50M_MIN    float64       \n",
      " 19  WS50M_RANGE  float64       \n",
      " 20  score        float64       \n",
      " 21  year         int64         \n",
      "dtypes: datetime64[ns](1), float64(19), int64(2)\n",
      "memory usage: 1.4 GB\n"
     ]
    }
   ],
   "source": [
    "df.info()"
   ]
  },
  {
   "cell_type": "code",
   "execution_count": 19,
   "id": "2bb659ad",
   "metadata": {},
   "outputs": [
    {
     "name": "stdout",
     "output_type": "stream",
     "text": [
      "The data has 7947156 rows and 22 columns\n"
     ]
    }
   ],
   "source": [
    "print(f\"The data has {df.shape[0]} rows and {df.shape[1]} columns\")"
   ]
  },
  {
   "cell_type": "code",
   "execution_count": 21,
   "id": "d79d127a",
   "metadata": {},
   "outputs": [
    {
     "name": "stdout",
     "output_type": "stream",
     "text": [
      "Minimum Year: 2010\n",
      "Maximum Year: 2016\n"
     ]
    }
   ],
   "source": [
    "min_year = df['year'].min()\n",
    "max_year = df['year'].max()\n",
    "\n",
    "print(f\"Minimum Year: {min_year}\")\n",
    "print(f\"Maximum Year: {max_year}\")"
   ]
  },
  {
   "cell_type": "code",
   "execution_count": 22,
   "id": "7cd94e15",
   "metadata": {},
   "outputs": [
    {
     "data": {
      "text/plain": [
       "array([   nan, 0.    , 0.0507, ..., 1.6143, 0.7399, 0.606 ])"
      ]
     },
     "execution_count": 22,
     "metadata": {},
     "output_type": "execute_result"
    }
   ],
   "source": [
    "df.score.unique()"
   ]
  },
  {
   "cell_type": "code",
   "execution_count": null,
   "id": "c86c1924",
   "metadata": {},
   "outputs": [],
   "source": []
  }
 ],
 "metadata": {
  "kernelspec": {
   "display_name": "Python 3 (ipykernel)",
   "language": "python",
   "name": "python3"
  },
  "language_info": {
   "codemirror_mode": {
    "name": "ipython",
    "version": 3
   },
   "file_extension": ".py",
   "mimetype": "text/x-python",
   "name": "python",
   "nbconvert_exporter": "python",
   "pygments_lexer": "ipython3",
   "version": "3.11.4"
  }
 },
 "nbformat": 4,
 "nbformat_minor": 5
}
